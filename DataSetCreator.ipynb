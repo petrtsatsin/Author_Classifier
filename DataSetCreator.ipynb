{
 "cells": [
  {
   "cell_type": "code",
   "execution_count": 2,
   "metadata": {
    "collapsed": false
   },
   "outputs": [],
   "source": [
    "books=[]\n",
    "for line in open(\"good_books.json\"):\n",
    "    tmp = line.strip().split(',')"
   ]
  },
  {
   "cell_type": "code",
   "execution_count": 3,
   "metadata": {
    "collapsed": false
   },
   "outputs": [],
   "source": [
    "import re\n",
    "for b in tmp:\n",
    "    books.append(re.sub(r'^\"|\"$', '', b.strip()).split('/')[5])"
   ]
  },
  {
   "cell_type": "code",
   "execution_count": 4,
   "metadata": {
    "collapsed": false
   },
   "outputs": [],
   "source": [
    "def get_sentences(book, sl):\n",
    "    retval = []\n",
    "    sentences = [re.sub(\"^\\s*|\\s*$\",\"\",re.sub(\"\\s+\",\" \",each)) \n",
    "             for each in re.split(\"[\\?\\.!]\",open(book).read())]\n",
    "    for s in sentences:\n",
    "        l = len(s.split(' '))\n",
    "        if l > sl and l < 100:\n",
    "            retval.append(s)\n",
    "    return retval"
   ]
  },
  {
   "cell_type": "code",
   "execution_count": 5,
   "metadata": {
    "collapsed": false
   },
   "outputs": [],
   "source": [
    "MAX_TRAINING_SIZE=100000"
   ]
  },
  {
   "cell_type": "code",
   "execution_count": 6,
   "metadata": {
    "collapsed": false
   },
   "outputs": [],
   "source": [
    "BOOK_PATH='./books/'\n",
    "authors = {}\n",
    "for b in books:\n",
    "    author = b.split(\"_\")[0]\n",
    "    if author in authors:\n",
    "        authors[author].extend(get_sentences(BOOK_PATH + b, 5))\n",
    "    else:\n",
    "        authors[author] = get_sentences(BOOK_PATH + b, 5)"
   ]
  },
  {
   "cell_type": "code",
   "execution_count": 7,
   "metadata": {
    "collapsed": true
   },
   "outputs": [],
   "source": [
    "MAX_SENTENCE_PER_AUTHOR = MAX_TRAINING_SIZE / len(authors)"
   ]
  },
  {
   "cell_type": "code",
   "execution_count": 8,
   "metadata": {
    "collapsed": false
   },
   "outputs": [],
   "source": [
    "MAX_SENTENCE_PER_AUTHOR = 2000"
   ]
  },
  {
   "cell_type": "code",
   "execution_count": 9,
   "metadata": {
    "collapsed": false
   },
   "outputs": [
    {
     "data": {
      "text/plain": [
       "44"
      ]
     },
     "execution_count": 9,
     "metadata": {},
     "output_type": "execute_result"
    }
   ],
   "source": [
    "len(authors)"
   ]
  },
  {
   "cell_type": "code",
   "execution_count": 10,
   "metadata": {
    "collapsed": false
   },
   "outputs": [
    {
     "data": {
      "text/plain": [
       "57"
      ]
     },
     "execution_count": 10,
     "metadata": {},
     "output_type": "execute_result"
    }
   ],
   "source": [
    "len(books)"
   ]
  },
  {
   "cell_type": "code",
   "execution_count": 11,
   "metadata": {
    "collapsed": false
   },
   "outputs": [],
   "source": [
    "import random\n",
    "train_data = {}\n",
    "for key in authors.iterkeys():\n",
    "    random.shuffle(authors[key])\n",
    "    if len(authors[key]) > MAX_SENTENCE_PER_AUTHOR:\n",
    "        train_data[key] = authors[key][:MAX_SENTENCE_PER_AUTHOR]    "
   ]
  },
  {
   "cell_type": "code",
   "execution_count": 12,
   "metadata": {
    "collapsed": false
   },
   "outputs": [],
   "source": [
    "count=0\n",
    "author_map = {}\n",
    "author_reverse_map = {}\n",
    "for key in train_data.iterkeys():\n",
    "    author_map[key] = count\n",
    "    author_reverse_map[count] = key\n",
    "    count = count + 1"
   ]
  },
  {
   "cell_type": "code",
   "execution_count": 12,
   "metadata": {
    "collapsed": false
   },
   "outputs": [],
   "source": [
    "with open(\"Output.txt\", \"w\") as text_file:\n",
    "    for key in train_data.iterkeys():\n",
    "        for v in train_data[key]:\n",
    "            text_file.write(\"%d %s\\n\" % (author_map[key], v))"
   ]
  },
  {
   "cell_type": "code",
   "execution_count": 13,
   "metadata": {
    "collapsed": false
   },
   "outputs": [],
   "source": [
    "max_len = 0\n",
    "for key in train_data.iterkeys():\n",
    "        for v in train_data[key]:\n",
    "            if len(v.split(\" \")) > 200:\n",
    "                print key\n",
    "                print v\n",
    "            "
   ]
  },
  {
   "cell_type": "code",
   "execution_count": 15,
   "metadata": {
    "collapsed": false
   },
   "outputs": [
    {
     "data": {
      "text/plain": [
       "{0: 'HenryJames',\n",
       " 1: 'EdgarRiceBurroughs',\n",
       " 2: 'Virgil',\n",
       " 3: 'RichardHardingDavis',\n",
       " 4: 'ThomasHardy',\n",
       " 5: 'BoothTarkington',\n",
       " 6: 'GeorgeMacDonald',\n",
       " 7: 'WSomersetMaugham',\n",
       " 8: 'WinnSchwartau',\n",
       " 9: 'ArthurConanDoyle',\n",
       " 10: 'GeorgeBorrow',\n",
       " 11: 'MarkTwain',\n",
       " 12: 'WEBDuBois',\n",
       " 13: 'FrankNorris',\n",
       " 14: 'StephenCrane',\n",
       " 15: 'LucyMaudMontgomery',\n",
       " 16: 'GKChesterton',\n",
       " 17: 'JosephConrad',\n",
       " 18: 'DavidHerbertLawrence',\n",
       " 19: 'NormanCoombs',\n",
       " 20: 'BaronessOrczy',\n",
       " 21: 'FrederickDouglass',\n",
       " 22: 'SherwoodAnderson',\n",
       " 23: 'SamuelSmiles',\n",
       " 24: 'Various',\n",
       " 25: 'NathanielHawthorne'}"
      ]
     },
     "execution_count": 15,
     "metadata": {},
     "output_type": "execute_result"
    }
   ],
   "source": [
    "author_reverse_map"
   ]
  },
  {
   "cell_type": "code",
   "execution_count": null,
   "metadata": {
    "collapsed": true
   },
   "outputs": [],
   "source": []
  }
 ],
 "metadata": {
  "kernelspec": {
   "display_name": "Python 2",
   "language": "python",
   "name": "python2"
  }
 },
 "nbformat": 4,
 "nbformat_minor": 1
}
